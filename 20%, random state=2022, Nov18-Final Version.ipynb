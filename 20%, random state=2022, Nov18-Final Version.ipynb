{
 "cells": [
  {
   "cell_type": "markdown",
   "metadata": {},
   "source": [
    "# Import Data (replies already been excluded)"
   ]
  },
  {
   "cell_type": "code",
   "execution_count": 1,
   "metadata": {},
   "outputs": [
    {
     "name": "stdout",
     "output_type": "stream",
     "text": [
      "The number of tweets (excludes replies) before data pre-processing: 6501\n"
     ]
    }
   ],
   "source": [
    "from nltk.stem.porter import PorterStemmer\n",
    "from nltk.corpus import stopwords, wordnet\n",
    "import pandas as pd\n",
    "\n",
    "text = pd.read_csv('Jan6(excludes replies).csv')\n",
    "print('The number of tweets (excludes replies) before data pre-processing:',len(text))"
   ]
  },
  {
   "cell_type": "code",
   "execution_count": 2,
   "metadata": {},
   "outputs": [],
   "source": [
    "import guidedlda"
   ]
  },
  {
   "cell_type": "markdown",
   "metadata": {},
   "source": [
    "# Data Cleaning\n",
    "1. tokenization\n",
    "2. remove @users, hashtag symbols, Urls, and special symbols(i.e., '&amp'), non-alphabetic characters, and words that have less than 3 characters\n",
    "3. remove stopwords\n",
    "4. lowercase transformation\n",
    "5. stemming"
   ]
  },
  {
   "cell_type": "code",
   "execution_count": 3,
   "metadata": {
    "scrolled": false
   },
   "outputs": [
    {
     "name": "stdout",
     "output_type": "stream",
     "text": [
      "number of tweets after cleaning: 6248\n"
     ]
    }
   ],
   "source": [
    "import gensim\n",
    "import gensim.corpora as corpora\n",
    "import re\n",
    "porter = PorterStemmer()\n",
    "stop_words = stopwords.words('english')\n",
    "b = []\n",
    "for i,u in text.iterrows():\n",
    "    a = []\n",
    "    word =''\n",
    "    for words in str(u['tweets']).split(): #tokenization\n",
    "        if '@' not in words: #remove @users\n",
    "            words = words.replace('#','') #remove hashtag symbol\n",
    "            if '#' not in words:\n",
    "                if 'http' not in words: #remove URLs\n",
    "                    if'&amp' not in words: #remove symbol\n",
    "                        words = re.sub(r'[^a-zA-Z]', ' ', words)#remove non-alphabetic characters\n",
    "                        if len(words)>2:\n",
    "                            word += (words+' ')\n",
    "    doc = ''\n",
    "    for token in word.split():\n",
    "        if len(token) >2: # remove words that have less than 3 characters\n",
    "            token = token.lower()# lowercase form\n",
    "            if token not in stop_words:# remove stopwords\n",
    "                token = porter.stem(token) #stemming\n",
    "                doc += (token+' ')\n",
    "    b.append(doc)\n",
    "text['processed']=[i for i in b]\n",
    "\n",
    "# exclude tweets that are not in English\n",
    "non_english_list = ['temiz','rkiy','erik','nda','konu','dan','da','ba','al','viand','para','na','dann','uft','laboratorio','dieser','kalbimi',\n",
    "                   'restoranda','evento','komo','ind','tica','futuro','sonra','yla','cre','ili','daki',\n",
    "                   'zaman']\n",
    "index_axis = []\n",
    "for index,i in text.iterrows():\n",
    "    if len(i['processed']) == 0:\n",
    "        index_axis.append(index)\n",
    "    else:\n",
    "        for word in i['processed'].split():\n",
    "            if word in non_english_list:\n",
    "                index_axis.append(index)\n",
    "                break\n",
    "text.drop(text.index[index_axis],inplace=True)\n",
    "print(\"number of tweets after cleaning:\",len(text))"
   ]
  },
  {
   "cell_type": "code",
   "execution_count": 4,
   "metadata": {},
   "outputs": [
    {
     "data": {
      "text/plain": [
       "Company\n",
       "Memphis Meats       1545\n",
       "biftek.co 🔬👩‍🔬🐄🥗    1429\n",
       "Aleph Farms          704\n",
       "Finless Foods        516\n",
       "shiokmeats           463\n",
       "SuperMeat            315\n",
       "New Age Meats        306\n",
       "BlueNalu             273\n",
       "CUBIQ FOODS          243\n",
       "Meatable             114\n",
       "Mosa Meat            108\n",
       "Wildtype              89\n",
       "Future Fields         44\n",
       "Vow                   36\n",
       "FutureMeat            32\n",
       "Balletic Foods        25\n",
       "LabFarmFoods           2\n",
       "Avant Meats            2\n",
       "Mission Barns          2\n",
       "Name: tweets, dtype: int64"
      ]
     },
     "execution_count": 4,
     "metadata": {},
     "output_type": "execute_result"
    }
   ],
   "source": [
    "text.groupby('Company')['tweets'].count().sort_values(ascending=False)"
   ]
  },
  {
   "cell_type": "markdown",
   "metadata": {},
   "source": [
    "# Randomly Select 20% Dataset As Our Training Set"
   ]
  },
  {
   "cell_type": "code",
   "execution_count": 5,
   "metadata": {},
   "outputs": [],
   "source": [
    "text_random_20percent = text.sample(frac=0.2, random_state=2022)"
   ]
  },
  {
   "cell_type": "code",
   "execution_count": 6,
   "metadata": {
    "scrolled": false
   },
   "outputs": [
    {
     "data": {
      "text/plain": [
       "Company\n",
       "Memphis Meats       319\n",
       "biftek.co 🔬👩‍🔬🐄🥗    289\n",
       "Aleph Farms         142\n",
       "shiokmeats           88\n",
       "Finless Foods        79\n",
       "New Age Meats        70\n",
       "SuperMeat            67\n",
       "CUBIQ FOODS          48\n",
       "BlueNalu             48\n",
       "Mosa Meat            24\n",
       "Meatable             23\n",
       "Wildtype             16\n",
       "FutureMeat           14\n",
       "Vow                   9\n",
       "Future Fields         7\n",
       "Balletic Foods        6\n",
       "Mission Barns         1\n",
       "Name: tweets, dtype: int64"
      ]
     },
     "execution_count": 6,
     "metadata": {},
     "output_type": "execute_result"
    }
   ],
   "source": [
    "text_random_20percent.groupby('Company')['tweets'].count().sort_values(ascending=False)"
   ]
  },
  {
   "cell_type": "markdown",
   "metadata": {},
   "source": [
    "# Generate Bigrams"
   ]
  },
  {
   "cell_type": "code",
   "execution_count": 7,
   "metadata": {
    "scrolled": true
   },
   "outputs": [
    {
     "data": {
      "image/png": "[encoded data removed]",
      "text/plain": [
       "<Figure size 432x288 with 1 Axes>"
      ]
     },
     "metadata": {
      "needs_background": "light"
     },
     "output_type": "display_data"
    }
   ],
   "source": [
    "from gensim.models import CoherenceModel\n",
    "def sent_to_words(sentences):\n",
    "    for sentence in sentences:\n",
    "        yield(gensim.utils.simple_preprocess(str(sentence),deacc=True)) #tokenization，return a list\n",
    "data_words = list(sent_to_words(text_random_20percent['processed'])) #tokenization\n",
    "bigram = gensim.models.Phrases(data_words,min_count=1,threshold=1)\n",
    "'''mincount：int, the times that two unigram co-occur must be equal or higher than this number，\n",
    "threshold：Phrases function will return a 'phrase score', it will decide whether two unigrams can be regarded as a bigram'''\n",
    "bigram_mod = gensim.models.phrases.Phraser(bigram) # Bigram\n",
    "def make_bigrams(texts): #Bigram\n",
    "    return [bigram[doc] for doc in texts]\n",
    "data_words_bigrams = make_bigrams(data_words)\n",
    "id2word = corpora.Dictionary(data_words_bigrams)\n",
    "texts = data_words_bigrams\n",
    "corpus = [id2word.doc2bow(text) for text in texts]\n",
    "\n",
    "\n",
    "def compute_coherence_values(dictionary, corpus, texts, limit, start, step):\n",
    "    coherence_values = []\n",
    "    model_list = []\n",
    "    for num_topics in range(start,limit,step):\n",
    "        model=gensim.models.ldamodel.LdaModel(corpus=corpus, id2word=id2word, num_topics=num_topics,random_state=2022)\n",
    "        model_list.append(model)\n",
    "        coherencemodel = CoherenceModel(model=model, texts=texts, dictionary=dictionary, coherence='u_mass')\n",
    "        coherence_values.append(coherencemodel.get_coherence())\n",
    "    return model_list, coherence_values\n",
    "limit=21; start=10; step=1\n",
    "model_list, coherence_values = compute_coherence_values(dictionary=id2word, corpus=corpus, texts=texts, start=start, limit=limit, step=step)\n",
    "# Show graph\n",
    "import matplotlib.pyplot as plt\n",
    "x = range(start, limit, step)\n",
    "plt.plot(x, coherence_values,label='20% random tweets')\n",
    "plt.xlabel(\"Num Topics\")\n",
    "plt.ylabel(\"Coherence score\")\n",
    "plt.legend(loc='best')\n",
    "plt.xticks(range(start,limit,step))\n",
    "plt.show()"
   ]
  },
  {
   "cell_type": "markdown",
   "metadata": {},
   "source": [
    "According to the Coherence score **Umass**, we set the number of topics to **12**"
   ]
  },
  {
   "cell_type": "code",
   "execution_count": 8,
   "metadata": {
    "scrolled": true
   },
   "outputs": [
    {
     "name": "stdout",
     "output_type": "stream",
     "text": [
      "The number of tweets in the training set: 1250\n"
     ]
    }
   ],
   "source": [
    "print('The number of tweets in the training set:',len(texts))"
   ]
  },
  {
   "cell_type": "markdown",
   "metadata": {},
   "source": [
    "# Traditional Bigram LDA\n",
    "print out the top 50 bigrams in each topic"
   ]
  },
  {
   "cell_type": "code",
   "execution_count": 9,
   "metadata": {
    "scrolled": false
   },
   "outputs": [
    {
     "name": "stdout",
     "output_type": "stream",
     "text": [
      "\n",
      "Topic: 0\n",
      "(plant_base) (cell_base) (meat_product) (anim_agricultur) (cultur_meat) (clean_meat) (cell_cultur) (fda_usda) (isra_startup) (grown_anim) (invest_clean) (food_product) (altprotein_cleanmeat) (step_toward) (aleph_farm) (food_foodtech) (global_food) (altern_protein) (grow_real) (smart_fat) (make_way) (path_market) (cellbas_meat) (plantbas_meat) (top_food) (could_futur) (invest_opportun) (startup_look) (good_news) (learn_lot) (meat_could) (food_secur) (food_tech) (new_book) (chef_culinari) (culturedmeat_innov) (want_work) (grow_anim) (solut_seafood) (take_time) (sustainablemeat_sustainablefood) (growth_medium) (demand_food) (quiz_trivia) (agricultur_get) (scale_product) (textur_key) (sound_like) (year_ago) (podcast_futur) \n",
      "Topic: 1\n",
      "(aleph_farm) (cell_base) (grown_steak) (memphi_meat) (demo_day) (slaughter_free) (meat_product) (futur_meat) (santa_clara) (serv_world) (polish_dog) (meat_startup) (isra_startup) (meat_compani) (scienc_progress) (invest_cleanmeat) (anim_agricultur) (clean_meat) (first_lab) (anim_cell) (anim_free) (slaughter_anim) (farm_food) (silicon_valley) (first_cell) (meat_market) (cellular_agricultur) (food_product) (like_check) (feed_world) (new_kind) (without_slaughter) (food_wast) (anim_tast) (impact_meat) (fish_stock) (black_commun) (learn_go) (commerci_product) (cellbas_cleanmeat) (super_excit) (netherland_base) (togeth_memphi) (first_product) (next_week) (sushi_nigiri) (creat_meat) (live_futur) (make_happen) (finless_food) \n",
      "Topic: 2\n",
      "(cell_base) (cultur_meat) (futur_food) (cultiv_meat) (isra_compani) (shiok_meat) (clean_meat) (lab_grown) (aleph_farm) (excit_welcom) (plantbas_cellbas) (meat_without) (govern_offer) (numer_grant) (poultri_seafood) (mission_bring) (next_week) (climat_chang) (via_culturedmeat) (futur_meat) (meat_industri) (great_see) (slaughter_anim) (cruelti_free) (grown_steak) (develop_lab) (good_food) (plantbas_cleanmeat) (clean_healthi) (alt_protein) (foodtech_sustain) (solut_global) (team_look) (grow_real) (demo_day) (develop_cleanmeat) (one_startup) (advoc_cell) (mani_peopl) (allianc_meat) (rapidli_grow) (cleanmeat_cellbasedmeat) (big_meet) (need_rais) (approv_sale) (compani_alreadi) (make_real) (agri_food) (chef_culinari) (tyson_food) \n",
      "Topic: 3\n",
      "(plant_base) (clean_meat) (cultur_meat) (cell_base) (meat_made) (human_anim) (larg_scale) (event_happen) (thrill_announc) (lab_grown) (would_make) (wild_type) (make_differ) (meat_product) (memphi_meat) (without_slaughter) (mark_post) (meat_industri) (grow_meat) (groceri_store) (last_week) (excit_speak) (product_market) (help_bring) (shrimp_crab) (meat_grill) (symposium_cm) (without_need) (share_mission) (build_sustain) (durgalakshmi_sathiakumar) (stop_eat) (solv_problem) (meat_research) (cleanmeat_startup) (blue_horizon) (look_new) (round_led) (hope_futur) (flavour_food) (human_sustain) (big_meet) (cultur_chicken) (demo_day) (delici_sustain) (aleph_farm) (beef_product) (cleanmeat_product) (david_kay) (food_choic) \n",
      "Topic: 4\n",
      "(cell_base) (thank_gift) (predict_clean) (talk_vc) (way_thank) (mayb_five) (comput_thoma) (meat_go) (watson_presid) (say_think) (chang_world) (mainstream_soon) (cell_cultur) (rememb_watson) (world_market) (life_scienc) (cultiv_meat) (sustain_food) (suppli_chain) (demand_cow) (clean_shrimp) (clean_meat) (convent_produc) (chicken_billion) (step_closer) (join_team) (read_blog) (honor_humbl) (cellular_aquacultur) (harm_anim) (delight_lead) (play_import) (continu_grow) (food_innov) (halal_certifi) (eat_meat) (food_product) (fish_meat) (new_role) (head_career) (groceri_store) (slaughter_cleanmeat) (ceo_talk) (make_happen) (directli_cell) (two_year) (look_forward) (anim_want) (santa_clara) (expect_impact) \n",
      "Topic: 5\n",
      "(cell_base) (clean_meat) (memphi_meat) (plant_base) (look_forward) (cultiv_meat) (meat_futur) (world_first) (futur_meat) (cultur_meat) (vegan_burger) (first_ever) (better_futur) (food_technolog) (lab_grown) (wait_tri) (lobster_meat) (liz_marshal) (documentari_director) (chang_world) (anim_product) (futur_food) (revolutionari_promis) (steak_via) (chicken_duck) (aleph_farm) (stem_cell) (first_cell) (cellbas_meat) (shiok_meat) (mosa_meat) (break_news) (sandhya_sriram) (product_market) (nobel_prize) (make_meat) (last_week) (get_food) (meat_produc) (hope_futur) (new_hire) (meat_suppli) (mark_post) (scienc_engin) (thrill_part) (produc_real) (made_first) (unit_state) (tastier_healthier) (goodfoodconfer_start) \n",
      "Topic: 6\n",
      "(base_meat) (cell_base) (aleph_farm) (meat_consumpt) (poultri_seafood) (isra_startup) (meat_without) (better_futur) (bring_clean) (chicken_duck) (protein_suppli) (cleanmeat_futureoffood) (blog_post) (sustain_food) (better_meat) (need_new) (ceo_speak) (food_tech) (cultiv_meat) (good_food) (meat_industri) (mark_post) (cultur_meat) (tradit_farm) (wild_type) (suppli_chain) (advoc_cell) (delici_meat) (bird_flu) (meat_potenti) (new_crop) (say_made) (fork_good) (make_cell) (foodtech_sustain) (first_ever) (grow_demand) (futureoffood_sustain) (human_futur) (cellular_agricultur) (food_wast) (human_sustain) (product_process) (sustain_resili) (meat_tast) (cell_cultur) (talk_cell) (farm_rais) (wild_salmon) (steak_via) \n",
      "Topic: 7\n",
      "(memphi_meat) (cell_base) (lab_grown) (cultur_meat) (chang_world) (stem_cell) (answer_question) (meat_industri) (cellular_agricultur) (plant_base) (futur_food) (uma_valeti) (sustain_meat) (per_year) (build_futur) (shiokmeat_asia) (base_meat) (excit_host) (food_tech) (food_industri) (shiok_meat) (grow_meat) (finless_food) (take_look) (san_diego) (drop_line) (hire_shiok) (next_year) (clean_meat) (eat_blue) (protein_pack) (around_world) (work_toward) (last_week) (anim_free) (anim_cell) (meat_futur) (cell_cultur) (peopl_feed) (next_week) (brand_new) (pleas_check) (new_economi) (protein_product) (climat_chang) (interview_ceo) (ceo_founder) (reduc_carbon) (krijn_nood) (great_piec) \n",
      "Topic: 8\n",
      "(cellular_agricultur) (clean_meat) (memphi_meat) (cultur_meat) (cell_line) (plant_base) (stem_cell) (sustain_food) (milk_farm) (food_system) (creat_cultur) (next_year) (meat_anim) (kill_anim) (need_chang) (convent_meat) (backer_campaign) (break_news) (one_fish) (cleanmeat_culturedmeat) (shiok_meat) (cell_cultur) (beyond_burrito) (shape_futur) (health_benefit) (cell_base) (jennif_doudna) (amanda_littl) (fate_food) (excit_announc) (larg_amount) (didier_toubia) (need_human) (great_month) (anim_cell) (feed_world) (seed_round) (ceo_krijn) (crustacean_meat) (slaughter_free) (first_time) (want_miss) (cut_cost) (brand_new) (new_natur) (plantbas_cellbas) (demo_day) (within_two) (convers_futur) (pleas_check) \n",
      "Topic: 9\n",
      "(lab_grown) (clean_meat) (cultur_meat) (cell_base) (altern_protein) (futur_meat) (shiok_meat) (last_year) (base_meat) (new_age) (ceo_speak) (feed_billion) (carbon_footprint) (didier_toubia) (produc_meat) (next_week) (big_step) (san_francisco) (find_new) (meat_consumpt) (peopl_anim) (meat_via) (meat_without) (memphi_meat) (shiok_shrimp) (look_forward) (around_world) (everi_year) (get_wors) (big_thank) (work_make) (look_bright) (anim_base) (stem_cell) (autom_platform) (parti_celebr) (industri_cell) (toward_sustain) (save_futur) (anim_welfar) (cultur_steak) (foodtech_culturedmeat) (cellag_announc) (cm_onlin) (thrill_join) (meat_made) (outer_space) (unit_nation) (cow_billion) (startup_rais) \n",
      "Topic: 10\n",
      "(cultur_meat) (plant_base) (lab_grown) (clean_meat) (cell_base) (futur_food) (meat_seafood) (meat_industri) (ice_cream) (sign_mou) (day_cellbas) (innov_research) (larg_scale) (steve_myrick) (mike_selden) (meat_busi) (lobster_reveal) (futur_meat) (day_event) (sector_provid) (yet_anoth) (exclus_footag) (base_meat) (join_click) (advanc_food) (world_first) (singapor_polytechn) (shiok_meat) (bay_area) (scienc_festiv) (seafood_product) (farm_anim) (new_natur) (food_system) (cellular_agricultur) (beyond_meat) (seafood_suppli) (sustain_food) (alt_protein) (quiz_trivia) (educ_initi) (next_year) (bring_cell) (food_navig) (last_chanc) (beef_product) (help_make) (livestock_cellag) (burger_king) (wild_caught) \n",
      "Topic: 11\n",
      "(memphi_meat) (cultur_meat) (food_tech) (lab_grown) (without_anim) (david_kay) (base_fat) (cellag_culturedmeat) (cultivatedmeat_cellbas) (manag_commun) (dprint_beef) (cleanmeat_culturedmeat) (cleanmeat_bioprint) (real_meat) (produc_meat) (elimin_need) (invest_compani) (hear_speak) (watch_live) (sustain_food) (foodtech_startup) (one_third) (new_york) (read_articl) (proud_contributor) (new_crop) (food_chain) (year_anniversari) (convent_produc) (share_vision) (tech_compani) (avail_plant) (synthet_biolog) (base_meat) (proud_share) (drop_cost) (vegan_world) (bring_market) (meat_could) (futureoffood_cellbasedmeat) (import_develop) (build_world) (ceo_discuss) (want_chang) (way_produc) (round_led) (read_blog) (million_fund) (ceo_speak) (last_week) "
     ]
    }
   ],
   "source": [
    "lda_model = gensim.models.ldamodel.LdaModel(corpus=corpus,id2word=id2word,num_topics=12,random_state=2022,alpha='auto',per_word_topics=True)\n",
    "\n",
    "amount =0\n",
    "for idx, topic in lda_model.show_topics(formatted=False,num_topics=12,num_words= 500):\n",
    "    print('\\n',end='')\n",
    "    print('Topic:',idx)\n",
    "    num = 0\n",
    "    for w in topic:\n",
    "        if '_' in w[0] and num < 50:\n",
    "            #print(round(w[1],4),'*',w[0],', ',end='',sep='')\n",
    "            print('(',w[0],') ',end='',sep='')\n",
    "            num += 1 \n",
    "            amount+=1"
   ]
  },
  {
   "cell_type": "markdown",
   "metadata": {},
   "source": [
    "# GuidedLDA Model\n",
    "latent topics are identified from the bigrams shown above."
   ]
  },
  {
   "cell_type": "code",
   "execution_count": 10,
   "metadata": {
    "scrolled": false
   },
   "outputs": [
    {
     "name": "stderr",
     "output_type": "stream",
     "text": [
      "INFO:guidedlda:n_documents: 6248\n",
      "INFO:guidedlda:vocab_size: 7520\n",
      "INFO:guidedlda:n_words: 74569\n",
      "INFO:guidedlda:n_topics: 14\n",
      "INFO:guidedlda:n_iter: 1000\n",
      "INFO:guidedlda:<0> log likelihood: -978900\n",
      "INFO:guidedlda:<10> log likelihood: -624493\n",
      "INFO:guidedlda:<20> log likelihood: -610005\n",
      "INFO:guidedlda:<30> log likelihood: -602178\n",
      "INFO:guidedlda:<40> log likelihood: -598280\n",
      "INFO:guidedlda:<50> log likelihood: -594905\n",
      "INFO:guidedlda:<60> log likelihood: -592685\n",
      "INFO:guidedlda:<70> log likelihood: -591103\n",
      "INFO:guidedlda:<80> log likelihood: -589407\n",
      "INFO:guidedlda:<90> log likelihood: -588374\n",
      "INFO:guidedlda:<100> log likelihood: -587394\n",
      "INFO:guidedlda:<110> log likelihood: -586658\n",
      "INFO:guidedlda:<120> log likelihood: -586134\n",
      "INFO:guidedlda:<130> log likelihood: -585331\n",
      "INFO:guidedlda:<140> log likelihood: -584887\n",
      "INFO:guidedlda:<150> log likelihood: -583957\n",
      "INFO:guidedlda:<160> log likelihood: -583905\n",
      "INFO:guidedlda:<170> log likelihood: -583959\n",
      "INFO:guidedlda:<180> log likelihood: -583448\n",
      "INFO:guidedlda:<190> log likelihood: -582732\n",
      "INFO:guidedlda:<200> log likelihood: -582772\n",
      "INFO:guidedlda:<210> log likelihood: -582866\n",
      "INFO:guidedlda:<220> log likelihood: -582306\n",
      "INFO:guidedlda:<230> log likelihood: -581861\n",
      "INFO:guidedlda:<240> log likelihood: -582152\n",
      "INFO:guidedlda:<250> log likelihood: -581384\n",
      "INFO:guidedlda:<260> log likelihood: -581281\n",
      "INFO:guidedlda:<270> log likelihood: -581545\n",
      "INFO:guidedlda:<280> log likelihood: -581178\n",
      "INFO:guidedlda:<290> log likelihood: -581182\n",
      "INFO:guidedlda:<300> log likelihood: -580344\n",
      "INFO:guidedlda:<310> log likelihood: -580531\n",
      "INFO:guidedlda:<320> log likelihood: -580248\n",
      "INFO:guidedlda:<330> log likelihood: -580262\n",
      "INFO:guidedlda:<340> log likelihood: -580152\n",
      "INFO:guidedlda:<350> log likelihood: -580038\n",
      "INFO:guidedlda:<360> log likelihood: -580054\n",
      "INFO:guidedlda:<370> log likelihood: -579703\n",
      "INFO:guidedlda:<380> log likelihood: -579626\n",
      "INFO:guidedlda:<390> log likelihood: -579829\n",
      "INFO:guidedlda:<400> log likelihood: -579267\n",
      "INFO:guidedlda:<410> log likelihood: -579421\n",
      "INFO:guidedlda:<420> log likelihood: -579592\n",
      "INFO:guidedlda:<430> log likelihood: -579405\n",
      "INFO:guidedlda:<440> log likelihood: -579929\n",
      "INFO:guidedlda:<450> log likelihood: -579438\n",
      "INFO:guidedlda:<460> log likelihood: -579081\n",
      "INFO:guidedlda:<470> log likelihood: -579332\n",
      "INFO:guidedlda:<480> log likelihood: -579168\n",
      "INFO:guidedlda:<490> log likelihood: -579181\n",
      "INFO:guidedlda:<500> log likelihood: -579398\n",
      "INFO:guidedlda:<510> log likelihood: -579310\n",
      "INFO:guidedlda:<520> log likelihood: -579122\n",
      "INFO:guidedlda:<530> log likelihood: -579173\n",
      "INFO:guidedlda:<540> log likelihood: -579279\n",
      "INFO:guidedlda:<550> log likelihood: -579127\n",
      "INFO:guidedlda:<560> log likelihood: -579411\n",
      "INFO:guidedlda:<570> log likelihood: -578957\n",
      "INFO:guidedlda:<580> log likelihood: -578758\n",
      "INFO:guidedlda:<590> log likelihood: -578822\n",
      "INFO:guidedlda:<600> log likelihood: -579205\n",
      "INFO:guidedlda:<610> log likelihood: -578270\n",
      "INFO:guidedlda:<620> log likelihood: -578556\n",
      "INFO:guidedlda:<630> log likelihood: -578266\n",
      "INFO:guidedlda:<640> log likelihood: -578478\n",
      "INFO:guidedlda:<650> log likelihood: -578571\n",
      "INFO:guidedlda:<660> log likelihood: -578318\n",
      "INFO:guidedlda:<670> log likelihood: -578337\n",
      "INFO:guidedlda:<680> log likelihood: -578395\n",
      "INFO:guidedlda:<690> log likelihood: -578306\n",
      "INFO:guidedlda:<700> log likelihood: -578306\n",
      "INFO:guidedlda:<710> log likelihood: -578469\n",
      "INFO:guidedlda:<720> log likelihood: -578630\n",
      "INFO:guidedlda:<730> log likelihood: -578364\n",
      "INFO:guidedlda:<740> log likelihood: -578323\n",
      "INFO:guidedlda:<750> log likelihood: -578373\n",
      "INFO:guidedlda:<760> log likelihood: -578039\n",
      "INFO:guidedlda:<770> log likelihood: -577938\n",
      "INFO:guidedlda:<780> log likelihood: -578049\n",
      "INFO:guidedlda:<790> log likelihood: -578555\n",
      "INFO:guidedlda:<800> log likelihood: -578525\n",
      "INFO:guidedlda:<810> log likelihood: -578390\n",
      "INFO:guidedlda:<820> log likelihood: -578376\n",
      "INFO:guidedlda:<830> log likelihood: -578214\n",
      "INFO:guidedlda:<840> log likelihood: -578549\n",
      "INFO:guidedlda:<850> log likelihood: -578131\n",
      "INFO:guidedlda:<860> log likelihood: -578151\n",
      "INFO:guidedlda:<870> log likelihood: -577951\n",
      "INFO:guidedlda:<880> log likelihood: -578166\n",
      "INFO:guidedlda:<890> log likelihood: -577957\n",
      "INFO:guidedlda:<900> log likelihood: -578107\n",
      "INFO:guidedlda:<910> log likelihood: -577805\n",
      "INFO:guidedlda:<920> log likelihood: -577982\n",
      "INFO:guidedlda:<930> log likelihood: -578176\n",
      "INFO:guidedlda:<940> log likelihood: -577830\n",
      "INFO:guidedlda:<950> log likelihood: -578002\n",
      "INFO:guidedlda:<960> log likelihood: -577709\n",
      "INFO:guidedlda:<970> log likelihood: -577843\n",
      "INFO:guidedlda:<980> log likelihood: -577914\n",
      "INFO:guidedlda:<990> log likelihood: -577740\n",
      "INFO:guidedlda:<999> log likelihood: -577826\n"
     ]
    },
    {
     "name": "stdout",
     "output_type": "stream",
     "text": [
      "\n",
      "\n",
      "Topic: 0\n",
      "0.0472*cleanmeat  0.0334*culturedmeat  0.0164*foodtech  0.0148*cultivatedmeat  0.0148*cellular  0.0143*cellag  0.0133*futureoffood  0.0127*agricultur  0.009*innov  0.009*medium  0.009*protein  0.008*biftekco  0.0074*cellbasedmeat  0.0074*dprint  0.0069*beef  0.0069*farm  0.0069*bioprint  0.0069*present  0.0069*differ  0.0069*cellularagricultur  \n",
      "\n",
      "Topic: 1\n",
      "0.0309*seafood  0.0263*fish  0.0205*cell  0.0178*base  0.0173*singapor  0.0171*shrimp  0.0168*shiok  0.0161*salmon  0.0159*shiokmeat  0.0157*ocean  0.0136*sustain  0.0127*futureoffood  0.0111*asia  0.0104*sushi  0.0104*startup  0.0099*meat  0.0097*tast  0.0085*cellbasedmeat  0.0085*lobster  0.0078*cleanmeat  \n",
      "\n",
      "Topic: 2\n",
      "0.05*meat  0.0428*grown  0.0414*steak  0.0391*lab  0.0296*first  0.0229*cell  0.0187*chicken  0.0187*farm  0.0171*via  0.0162*world  0.015*cleanmeat  0.0144*aleph  0.0114*culturedmeat  0.0109*isra  0.0107*slaughter  0.0106*tast  0.0104*beef  0.0097*anim  0.009*cultur  0.009*startup  \n",
      "\n",
      "Topic: 3\n",
      "0.0263*food  0.0188*meat  0.0187*chang  0.0164*anim  0.0142*climat  0.0139*sustain  0.0139*world  0.0126*way  0.0099*need  0.0086*human  0.0084*planet  0.0082*industri  0.0076*global  0.0074*eat  0.0074*could  0.0074*impact  0.0069*environment  0.0069*health  0.0067*system  0.0067*environ  \n",
      "\n",
      "Topic: 4\n",
      "0.0489*meat  0.0305*plant  0.0303*base  0.0171*year  0.0161*protein  0.0142*altern  0.014*plantbas  0.014*market  0.0118*vegan  0.0116*burger  0.0115*industri  0.0097*food  0.0083*product  0.008*demand  0.0074*beyond  0.0074*global  0.0074*milk  0.0072*consum  0.007*report  0.007*new  \n",
      "\n",
      "Topic: 5\n",
      "0.0842*meat  0.0388*anim  0.0213*without  0.0184*make  0.0167*futur  0.0144*clean  0.0131*cell  0.0116*eat  0.0114*real  0.0113*slaughter  0.0113*food  0.0113*cleanmeat  0.0106*world  0.0105*free  0.0092*better  0.0085*cultur  0.0085*lab  0.0083*grown  0.0079*sustain  0.0078*culturedmeat  \n",
      "\n",
      "Topic: 6\n",
      "0.032*meat  0.0168*use  0.0166*anim  0.0163*fat  0.0157*food  0.0152*produc  0.011*antibiot  0.0098*cubiq  0.0098*farm  0.0084*water  0.0081*less  0.0079*shrimp  0.0079*protein  0.0065*omega  0.0065*smart  0.0065*land  0.0062*sustain  0.0059*oil  0.0059*industri  0.0056*agricultur  \n",
      "\n",
      "Topic: 7\n",
      "0.0411*meat  0.0265*product  0.0251*cell  0.0234*base  0.0132*food  0.0104*scale  0.0099*sustain  0.0099*plant  0.0096*cultur  0.0087*cultiv  0.008*industri  0.0079*market  0.0075*cultivatedmeat  0.0074*look  0.0072*new  0.0068*seafood  0.0068*develop  0.0065*great  0.0062*produc  0.0062*compani  \n",
      "\n",
      "Topic: 8\n",
      "0.0388*meat  0.0226*invest  0.0215*startup  0.0203*compani  0.0173*base  0.0172*fund  0.0167*rais  0.0167*food  0.0147*cell  0.0132*million  0.013*announc  0.0129*round  0.0118*foodtech  0.0101*new  0.0101*protein  0.0091*innov  0.0086*seri  0.0083*via  0.0081*investor  0.008*excit  \n",
      "\n",
      "Topic: 9\n",
      "0.0255*food  0.0207*futur  0.0205*meat  0.0169*ceo  0.0141*speak  0.0126*join  0.0112*panel  0.0095*discuss  0.0087*confer  0.0082*talk  0.0076*see  0.0076*innov  0.0073*live  0.0072*world  0.0072*foodtech  0.007*today  0.0069*check  0.0067*week  0.0066*event  0.0065*day  \n",
      "\n",
      "Topic: 10\n",
      "0.0206*team  0.0185*join  0.0178*meat  0.0115*food  0.0113*work  0.0106*new  0.0097*excit  0.0095*hire  0.0092*research  0.009*thank  0.009*help  0.008*world  0.0075*look  0.0069*futur  0.0069*make  0.0067*pleas  0.0067*scientist  0.0067*check  0.0066*get  0.0063*appli  \n",
      "\n",
      "Topic: 11\n",
      "0.0381*meat  0.0329*cell  0.0181*product  0.0178*cultur  0.0148*base  0.0103*bring  0.0095*market  0.0084*regul  0.0081*media  0.0081*innov  0.0081*cost  0.0078*industri  0.0078*cultivatedmeat  0.0075*fda  0.0072*regulatori  0.007*time  0.007*label  0.0067*safe  0.0058*usda  0.0058*consum  \n",
      "\n",
      "Topic: 12\n",
      "0.0328*thank  0.0246*meat  0.0162*great  0.0147*new  0.0133*love  0.0122*futur  0.0111*year  0.0105*good  0.0101*food  0.0099*happi  0.0097*work  0.0091*team  0.0088*articl  0.0086*well  0.0086*friend  0.0078*memphi  0.0072*come  0.0071*look  0.0069*check  0.0069*make  \n",
      "\n",
      "Topic: 13\n",
      "0.0147*founder  0.0114*food  0.0098*startup  0.0094*covid  0.0091*award  0.0091*new  0.0081*natur  0.0081*see  0.0078*chief  0.0075*scienc  0.0075*scientif  0.0075*offic  0.0072*innov  0.0072*year  0.0068*peopl  0.0068*interview  0.0068*one  0.0068*excit  0.0068*experi  0.0065*want  "
     ]
    }
   ],
   "source": [
    "bigramseed = [['foodtech','cellular','medium','stem','dprint','bioprint','cellag'],#0 Manufacturing process\n",
    "             ['seafood','sushi','nigiri','fish','shrimp','crab','aquacultur',\n",
    "              'lobster','salmon'],#1 Seafood\n",
    "             ['steak','poultri','beef','chicken','duck'],#2 Meat product\n",
    "             ['climat','chang','carbon','sustain','sustainablefood','sustainablemeat',\n",
    "              'feed','serv','demand'],#3 Sustainibility\n",
    "             ['altprotein','altern','protein','alt','plant','plantbas','vegan'],#4 Alternative protein\n",
    "             ['slaughter','cruelti','harm','anim','kill','welfar'],#5 Animal welfare\n",
    "             ['healthi','healthier','health','fat'],#6 Health and nutrition\n",
    "             ['market','product','industri','suppli','chain','commerci'],#7 Industry and Market\n",
    "             ['invest','startup','round','seed','fund','backer'],#8 Fundraising\n",
    "             ['demo','event','speak','host','festiv','symposium','join','talk',\n",
    "              'goodfoodconfer','watch','live','podcast','news','read','blog','post',\n",
    "              'check','interview','articl','thank','announc','discuss'],#9 Public relations\n",
    "             ['join','team','hire'],#10 Hiring information\n",
    "             ['fda','usda','approv','advoc']]#11 Regulation\n",
    "\n",
    "from sklearn.feature_extraction.text import CountVectorizer\n",
    "import guidedlda\n",
    "import numpy as np\n",
    "model = guidedlda.GuidedLDA(n_topics=14,n_iter=1000,random_state=2022,refresh=10,alpha=0.01,eta=0.01)\n",
    "\n",
    "vectorizer = CountVectorizer()\n",
    "X = vectorizer.fit_transform(text['processed'])\n",
    "\n",
    "vocab = vectorizer.get_feature_names()\n",
    "word2id = dict((v,idx) for idx,v in enumerate(vocab))\n",
    "seed_topics = {}\n",
    "for t_id, st in enumerate(bigramseed):\n",
    "    for word in st:\n",
    "        seed_topics[word2id[word]] = t_id\n",
    "\n",
    "model.fit(X.toarray(),seed_topics=seed_topics,seed_confidence=0.7) #set seed confidence to 0.7\n",
    "topic_word = model.topic_word_\n",
    "n_top_words = 20\n",
    "vocab = tuple(vocab)\n",
    "\n",
    "for i, topic_dist in enumerate(topic_word): #Print out results\n",
    "    print('\\n')\n",
    "    print('Topic:',i)\n",
    "    words_probability = np.array(-topic_dist)\n",
    "    for index in range(n_top_words):\n",
    "        print(round(abs(np.sort(words_probability))[:(n_top_words)][index],4),'*',\n",
    "              np.array(vocab)[np.argsort(topic_dist)][:-(n_top_words+1):-1][index],sep='',end='  ') "
   ]
  },
  {
   "cell_type": "markdown",
   "metadata": {},
   "source": [
    "# Prominent Factor\n",
    "For any tweet, let *t1* be the topic with the highest probability (*p1*) and the *t2* the next ranking topic (with probability *p2*), as determined by performing Guided LDA on the entire dadaset. We call the ratio of *p1*/*p2* the 'Prominent Factor' or PF. If *t1* is much more prominent than '*t2*', PF will be high. A factor higher than 1.4 means that one topic is relatively predominant for this tweet.\n",
    "\n",
    "*References:*\n",
    "\n",
    "Nugroho, Robertus, et al. \"Incorporating tweet relationships into topic derivation.\" Conference of the Pacific Association for Computational Linguistics. Springer, Singapore, 2015.\n"
   ]
  },
  {
   "cell_type": "code",
   "execution_count": 11,
   "metadata": {},
   "outputs": [
    {
     "name": "stderr",
     "output_type": "stream",
     "text": [
      "/opt/anaconda3/lib/python3.7/site-packages/guidedlda/utils.py:55: FutureWarning: Conversion of the second argument of issubdtype from `int` to `np.signedinteger` is deprecated. In future, it will be treated as `np.int64 == np.dtype(int).type`.\n",
      "  if sparse and not np.issubdtype(doc_word.dtype, int):\n"
     ]
    },
    {
     "name": "stdout",
     "output_type": "stream",
     "text": [
      "Prominent factor:81.56%\n"
     ]
    }
   ],
   "source": [
    "prominent_factor = []\n",
    "doc_topic = model.transform(X)\n",
    "for i in range(len(doc_topic)):\n",
    "    prominent_factor.append(sorted(doc_topic[i])[-1]/sorted(doc_topic[i])[-2])\n",
    "count = 0\n",
    "for i in prominent_factor:\n",
    "    if i >= 1.4:\n",
    "        count+=1\n",
    "print('Prominent factor:',round(count/len(text)*100,2),'%',sep='')"
   ]
  },
  {
   "cell_type": "markdown",
   "metadata": {},
   "source": [
    "# Proportion of Each Topic"
   ]
  },
  {
   "cell_type": "code",
   "execution_count": 12,
   "metadata": {
    "scrolled": true
   },
   "outputs": [
    {
     "data": {
      "text/html": [
       "<div>\n",
       "<style scoped>\n",
       "    .dataframe tbody tr th:only-of-type {\n",
       "        vertical-align: middle;\n",
       "    }\n",
       "\n",
       "    .dataframe tbody tr th {\n",
       "        vertical-align: top;\n",
       "    }\n",
       "\n",
       "    .dataframe thead th {\n",
       "        text-align: right;\n",
       "    }\n",
       "</style>\n",
       "<table border=\"1\" class=\"dataframe\">\n",
       "  <thead>\n",
       "    <tr style=\"text-align: right;\">\n",
       "      <th></th>\n",
       "      <th>number</th>\n",
       "      <th>proportion</th>\n",
       "      <th>Topic</th>\n",
       "    </tr>\n",
       "    <tr>\n",
       "      <th>topic_number</th>\n",
       "      <th></th>\n",
       "      <th></th>\n",
       "      <th></th>\n",
       "    </tr>\n",
       "  </thead>\n",
       "  <tbody>\n",
       "    <tr>\n",
       "      <th>0</th>\n",
       "      <td>173</td>\n",
       "      <td>2.77%</td>\n",
       "      <td>Manufacturing process</td>\n",
       "    </tr>\n",
       "    <tr>\n",
       "      <th>1</th>\n",
       "      <td>279</td>\n",
       "      <td>4.47%</td>\n",
       "      <td>Seafood</td>\n",
       "    </tr>\n",
       "    <tr>\n",
       "      <th>2</th>\n",
       "      <td>489</td>\n",
       "      <td>7.83%</td>\n",
       "      <td>Meat product</td>\n",
       "    </tr>\n",
       "    <tr>\n",
       "      <th>3</th>\n",
       "      <td>582</td>\n",
       "      <td>9.31%</td>\n",
       "      <td>Sustainability</td>\n",
       "    </tr>\n",
       "    <tr>\n",
       "      <th>4</th>\n",
       "      <td>406</td>\n",
       "      <td>6.5%</td>\n",
       "      <td>Alternative protein</td>\n",
       "    </tr>\n",
       "    <tr>\n",
       "      <th>5</th>\n",
       "      <td>691</td>\n",
       "      <td>11.06%</td>\n",
       "      <td>Animal welfare</td>\n",
       "    </tr>\n",
       "    <tr>\n",
       "      <th>6</th>\n",
       "      <td>235</td>\n",
       "      <td>3.76%</td>\n",
       "      <td>Health and nutrition</td>\n",
       "    </tr>\n",
       "    <tr>\n",
       "      <th>7</th>\n",
       "      <td>426</td>\n",
       "      <td>6.82%</td>\n",
       "      <td>Industry and market</td>\n",
       "    </tr>\n",
       "    <tr>\n",
       "      <th>8</th>\n",
       "      <td>526</td>\n",
       "      <td>8.42%</td>\n",
       "      <td>Fundraising</td>\n",
       "    </tr>\n",
       "    <tr>\n",
       "      <th>9</th>\n",
       "      <td>782</td>\n",
       "      <td>12.52%</td>\n",
       "      <td>Event promotion and media release</td>\n",
       "    </tr>\n",
       "    <tr>\n",
       "      <th>10</th>\n",
       "      <td>574</td>\n",
       "      <td>9.19%</td>\n",
       "      <td>Hiring information</td>\n",
       "    </tr>\n",
       "    <tr>\n",
       "      <th>11</th>\n",
       "      <td>235</td>\n",
       "      <td>3.76%</td>\n",
       "      <td>Regulation</td>\n",
       "    </tr>\n",
       "    <tr>\n",
       "      <th>12</th>\n",
       "      <td>609</td>\n",
       "      <td>9.75%</td>\n",
       "      <td>Unseeded topic1</td>\n",
       "    </tr>\n",
       "    <tr>\n",
       "      <th>13</th>\n",
       "      <td>241</td>\n",
       "      <td>3.86%</td>\n",
       "      <td>Unseeded topic2</td>\n",
       "    </tr>\n",
       "  </tbody>\n",
       "</table>\n",
       "</div>"
      ],
      "text/plain": [
       "              number proportion                              Topic\n",
       "topic_number                                                      \n",
       "0                173      2.77%              Manufacturing process\n",
       "1                279      4.47%                            Seafood\n",
       "2                489      7.83%                       Meat product\n",
       "3                582      9.31%                     Sustainability\n",
       "4                406       6.5%                Alternative protein\n",
       "5                691     11.06%                     Animal welfare\n",
       "6                235      3.76%               Health and nutrition\n",
       "7                426      6.82%                Industry and market\n",
       "8                526      8.42%                        Fundraising\n",
       "9                782     12.52%  Event promotion and media release\n",
       "10               574      9.19%                 Hiring information\n",
       "11               235      3.76%                         Regulation\n",
       "12               609      9.75%                    Unseeded topic1\n",
       "13               241      3.86%                    Unseeded topic2"
      ]
     },
     "execution_count": 12,
     "metadata": {},
     "output_type": "execute_result"
    }
   ],
   "source": [
    "topic_number = []\n",
    "number = []\n",
    "topic_probability = []\n",
    "for i in range(len(doc_topic)):\n",
    "    topic_number.append(doc_topic[i].argmax())\n",
    "    topic_probability.append(doc_topic[i][doc_topic[i].argmax()])\n",
    "    number.append('1')\n",
    "data = pd.DataFrame(data=[i for i in topic_number],columns=['topic_number'])\n",
    "data['number'] = [i for i in number]\n",
    "number_of_tweets = pd.DataFrame(data.groupby('topic_number')['number'].count())\n",
    "number_of_tweets['proportion'] = [str(round(i/len(text)*100,2))+'%' for i in number_of_tweets['number']]\n",
    "number_of_tweets['Topic'] = ['Manufacturing process','Seafood','Meat product','Sustainability',\n",
    "                                 'Alternative protein','Animal welfare','Health and nutrition','Industry and market',\n",
    "                                 'Fundraising','Event promotion and media release','Hiring information',\n",
    "                                 'Regulation','Unseeded topic1','Unseeded topic2']\n",
    "number_of_tweets"
   ]
  },
  {
   "cell_type": "markdown",
   "metadata": {},
   "source": [
    "# Company-Topic Heatmap\n",
    "Based on proportion of each topic for each company"
   ]
  },
  {
   "cell_type": "code",
   "execution_count": 13,
   "metadata": {
    "scrolled": false
   },
   "outputs": [
    {
     "name": "stderr",
     "output_type": "stream",
     "text": [
      "/opt/anaconda3/lib/python3.7/site-packages/guidedlda/utils.py:55: FutureWarning: Conversion of the second argument of issubdtype from `int` to `np.signedinteger` is deprecated. In future, it will be treated as `np.int64 == np.dtype(int).type`.\n",
      "  if sparse and not np.issubdtype(doc_word.dtype, int):\n",
      "INFO:numexpr.utils:NumExpr defaulting to 8 threads.\n"
     ]
    },
    {
     "data": {
      "image/png": "[encoded data removed]",
      "text/plain": [
       "<Figure size 792x576 with 2 Axes>"
      ]
     },
     "metadata": {
      "needs_background": "light"
     },
     "output_type": "display_data"
    }
   ],
   "source": [
    "doc_topic = model.transform(X)\n",
    "topic_number1 = []\n",
    "\n",
    "\n",
    "for i in range(len(doc_topic)):\n",
    "    topic_number1.append(doc_topic[i].argmax())\n",
    "text['topic number'] = [i for i in topic_number1]\n",
    "topic_author = text.groupby(['topic number','Company'])['tweets'].count()\n",
    "topic_author_3d = topic_author.unstack()\n",
    "topic_author_3d = topic_author_3d[['Memphis Meats','biftek.co 🔬👩‍🔬🐄🥗','Aleph Farms','SuperMeat',\n",
    "                                  'Finless Foods','shiokmeats','BlueNalu','New Age Meats','CUBIQ FOODS',\n",
    "                                  'Mosa Meat','Wildtype','Meatable','Future Fields','Vow',\n",
    "                                  'FutureMeat','Balletic Foods','LabFarmFoods','Avant Meats','Mission Barns']]\n",
    "topic = ['Manufacturing process and supplies','Seafood product','Meat product','Sustainability',\n",
    "        'Animal welfare','Alternative protein','Health and nutrition','Regulation','Industry and market','Fundraising',\n",
    "        'Hiring Information','Event promotion and media release','Unseeded topic 1','Unseeded topic 2']\n",
    "\n",
    "company = ['UPSIDE Foods','Biftek.co','Aleph Farms','SuperMeat','Fineless Foods','Shiok Meats','BlueNalu',\n",
    "          'New Age Meats','Cubiq Foods','Mosa Meat','Wild Type','Meatable','Future Fields','Vow','Future Meat',\n",
    "           'Balletic Foods','Lab Farm Foods','Avant Meats','Mission Barns']\n",
    "topic_author_3d = topic_author_3d.fillna(0)#replace NaN by 0\n",
    "topic_author_3d = topic_author_3d.reindex([0,1,2,3,5,4,6,11,7,8,10,9,12,13])# reindex\n",
    "import matplotlib.pyplot as plt\n",
    "plt.figure(figsize=(11,8))\n",
    "plt.imshow(topic_author_3d.div(topic_author_3d.sum(axis=0),axis=1),cmap=\"Blues\")\n",
    "plt.colorbar().ax.set_ylabel('Proportion of each topic for each company')\n",
    "plt.xticks(range(len(company)), company,rotation=90)\n",
    "plt.yticks(range(len(topic)), topic)\n",
    "plt.xlabel('Company')\n",
    "plt.ylabel('Topic')\n",
    "plt.show()"
   ]
  },
  {
   "cell_type": "markdown",
   "metadata": {},
   "source": [
    "# Traditional Unigram LDA"
   ]
  },
  {
   "cell_type": "code",
   "execution_count": 14,
   "metadata": {},
   "outputs": [],
   "source": [
    "unigram = []\n",
    "all_tweets = []\n",
    "for i,tweet in text.iterrows():\n",
    "    if len(unigram) != 0:\n",
    "        all_tweets.append(unigram)\n",
    "    unigram= []\n",
    "    for word in tweet['processed'].split():\n",
    "        unigram.append(str(word))\n",
    "all_tweets.append(unigram)"
   ]
  },
  {
   "cell_type": "code",
   "execution_count": 15,
   "metadata": {
    "scrolled": true
   },
   "outputs": [
    {
     "name": "stderr",
     "output_type": "stream",
     "text": [
      "INFO:gensim.corpora.dictionary:adding document #0 to Dictionary(0 unique tokens: [])\n",
      "INFO:gensim.corpora.dictionary:built Dictionary(7520 unique tokens: ['base', 'becam', 'cell', 'cellag', 'cellbasedmeat']...) from 6248 documents (total 74569 corpus positions)\n",
      "INFO:gensim.models.ldamodel:using serial LDA version on this node\n",
      "INFO:gensim.models.ldamodel:running online (single-pass) LDA training, 14 topics, 1 passes over the supplied corpus of 6248 documents, updating model once every 2000 documents, evaluating perplexity every 6248 documents, iterating 50x with a convergence threshold of 0.001000\n",
      "WARNING:gensim.models.ldamodel:too few updates, training might not converge; consider increasing the number of passes or iterations to improve accuracy\n",
      "INFO:gensim.models.ldamodel:PROGRESS: pass 0, at document #2000/6248\n",
      "INFO:gensim.models.ldamodel:merging changes from 2000 documents into a model of 6248 documents\n",
      "INFO:gensim.models.ldamodel:topic #3 (0.010): 0.069*\"meat\" + 0.019*\"food\" + 0.014*\"futur\" + 0.013*\"make\" + 0.013*\"via\" + 0.013*\"product\" + 0.011*\"sustain\" + 0.011*\"cultur\" + 0.010*\"anim\" + 0.010*\"compani\"\n",
      "INFO:gensim.models.ldamodel:topic #7 (0.010): 0.048*\"meat\" + 0.018*\"anim\" + 0.013*\"without\" + 0.013*\"make\" + 0.013*\"use\" + 0.012*\"way\" + 0.010*\"product\" + 0.009*\"innov\" + 0.009*\"food\" + 0.009*\"grow\"\n",
      "INFO:gensim.models.ldamodel:topic #0 (0.010): 0.022*\"meat\" + 0.020*\"world\" + 0.017*\"anim\" + 0.012*\"food\" + 0.012*\"futur\" + 0.012*\"better\" + 0.012*\"make\" + 0.010*\"chicken\" + 0.009*\"cell\" + 0.009*\"work\"\n",
      "INFO:gensim.models.ldamodel:topic #1 (0.010): 0.040*\"meat\" + 0.020*\"food\" + 0.017*\"futur\" + 0.015*\"sustain\" + 0.013*\"anim\" + 0.011*\"world\" + 0.009*\"work\" + 0.009*\"clean\" + 0.008*\"want\" + 0.008*\"get\"\n",
      "INFO:gensim.models.ldamodel:topic #5 (0.010): 0.053*\"meat\" + 0.012*\"memphi\" + 0.012*\"anim\" + 0.011*\"food\" + 0.010*\"join\" + 0.010*\"futur\" + 0.008*\"new\" + 0.008*\"lab\" + 0.008*\"world\" + 0.008*\"campaign\"\n",
      "INFO:gensim.models.ldamodel:topic diff=90.925591, rho=1.000000\n",
      "INFO:gensim.models.ldamodel:PROGRESS: pass 0, at document #4000/6248\n",
      "INFO:gensim.models.ldamodel:merging changes from 2000 documents into a model of 6248 documents\n",
      "INFO:gensim.models.ldamodel:topic #8 (0.010): 0.044*\"thank\" + 0.018*\"meat\" + 0.018*\"cto\" + 0.011*\"come\" + 0.010*\"scienc\" + 0.009*\"need\" + 0.009*\"industri\" + 0.009*\"food\" + 0.009*\"round\" + 0.008*\"friend\"\n",
      "INFO:gensim.models.ldamodel:topic #6 (0.010): 0.023*\"meat\" + 0.022*\"wild\" + 0.018*\"sustain\" + 0.015*\"team\" + 0.012*\"excit\" + 0.011*\"cell\" + 0.010*\"base\" + 0.010*\"welcom\" + 0.009*\"bring\" + 0.009*\"world\"\n",
      "INFO:gensim.models.ldamodel:topic #4 (0.010): 0.037*\"food\" + 0.031*\"meat\" + 0.015*\"futur\" + 0.015*\"seafood\" + 0.015*\"base\" + 0.014*\"industri\" + 0.012*\"cell\" + 0.012*\"fish\" + 0.009*\"great\" + 0.009*\"thank\"\n",
      "INFO:gensim.models.ldamodel:topic #12 (0.010): 0.026*\"meat\" + 0.026*\"cell\" + 0.026*\"seafood\" + 0.018*\"base\" + 0.017*\"anim\" + 0.009*\"one\" + 0.009*\"clean\" + 0.009*\"team\" + 0.008*\"great\" + 0.008*\"year\"\n",
      "INFO:gensim.models.ldamodel:topic #13 (0.010): 0.029*\"meat\" + 0.023*\"cell\" + 0.019*\"base\" + 0.017*\"compani\" + 0.015*\"futureoffood\" + 0.012*\"thank\" + 0.010*\"food\" + 0.010*\"check\" + 0.009*\"talk\" + 0.009*\"stemcel\"\n",
      "INFO:gensim.models.ldamodel:topic diff=0.237586, rho=0.707107\n",
      "INFO:gensim.models.ldamodel:PROGRESS: pass 0, at document #6000/6248\n",
      "INFO:gensim.models.ldamodel:merging changes from 2000 documents into a model of 6248 documents\n",
      "INFO:gensim.models.ldamodel:topic #13 (0.010): 0.035*\"meat\" + 0.021*\"base\" + 0.019*\"compani\" + 0.017*\"plant\" + 0.017*\"futureoffood\" + 0.017*\"cell\" + 0.014*\"steak\" + 0.014*\"first\" + 0.012*\"culturedmeat\" + 0.012*\"year\"\n",
      "INFO:gensim.models.ldamodel:topic #10 (0.010): 0.045*\"meat\" + 0.016*\"cultur\" + 0.015*\"new\" + 0.013*\"market\" + 0.013*\"year\" + 0.013*\"chicken\" + 0.012*\"base\" + 0.012*\"food\" + 0.011*\"cell\" + 0.008*\"lab\"\n",
      "INFO:gensim.models.ldamodel:topic #8 (0.010): 0.031*\"thank\" + 0.020*\"meat\" + 0.015*\"coronaviru\" + 0.013*\"scienc\" + 0.012*\"cto\" + 0.011*\"round\" + 0.009*\"prepar\" + 0.009*\"award\" + 0.009*\"cultivatedmeat\" + 0.009*\"technion\"\n",
      "INFO:gensim.models.ldamodel:topic #12 (0.010): 0.028*\"meat\" + 0.022*\"cell\" + 0.018*\"base\" + 0.017*\"seafood\" + 0.016*\"anim\" + 0.011*\"today\" + 0.009*\"year\" + 0.009*\"one\" + 0.008*\"world\" + 0.008*\"product\"\n",
      "INFO:gensim.models.ldamodel:topic #0 (0.010): 0.061*\"steak\" + 0.024*\"cultivatedmeat\" + 0.023*\"foodtech\" + 0.023*\"world\" + 0.021*\"grown\" + 0.020*\"cleanmeat\" + 0.020*\"farm\" + 0.017*\"first\" + 0.016*\"pandem\" + 0.015*\"culturedmeat\"\n",
      "INFO:gensim.models.ldamodel:topic diff=0.182533, rho=0.577350\n",
      "INFO:gensim.models.ldamodel:-23.157 per-word bound, 9355482.4 perplexity estimate based on a held-out corpus of 248 documents with 2874 words\n",
      "INFO:gensim.models.ldamodel:PROGRESS: pass 0, at document #6248/6248\n",
      "INFO:gensim.models.ldamodel:merging changes from 248 documents into a model of 6248 documents\n",
      "INFO:gensim.models.ldamodel:topic #2 (0.010): 0.037*\"meat\" + 0.024*\"product\" + 0.020*\"sale\" + 0.018*\"lab\" + 0.015*\"grown\" + 0.013*\"like\" + 0.013*\"launch\" + 0.012*\"interview\" + 0.012*\"wrap\" + 0.012*\"cell\"\n",
      "INFO:gensim.models.ldamodel:topic #13 (0.010): 0.030*\"meat\" + 0.030*\"futureoffood\" + 0.026*\"year\" + 0.022*\"cellag\" + 0.022*\"cleanmeat\" + 0.021*\"plant\" + 0.017*\"base\" + 0.016*\"cultur\" + 0.015*\"culturedmeat\" + 0.013*\"ago\"\n",
      "INFO:gensim.models.ldamodel:topic #5 (0.010): 0.032*\"meat\" + 0.031*\"aleph\" + 0.023*\"food\" + 0.019*\"year\" + 0.016*\"age\" + 0.015*\"new\" + 0.015*\"farm\" + 0.013*\"job\" + 0.013*\"anim\" + 0.012*\"set\"\n",
      "INFO:gensim.models.ldamodel:topic #4 (0.010): 0.042*\"food\" + 0.031*\"meat\" + 0.016*\"futur\" + 0.015*\"base\" + 0.014*\"industri\" + 0.011*\"technolog\" + 0.011*\"scienc\" + 0.011*\"excit\" + 0.010*\"look\" + 0.010*\"biolog\"\n",
      "INFO:gensim.models.ldamodel:topic #12 (0.010): 0.029*\"meat\" + 0.022*\"cell\" + 0.016*\"anim\" + 0.016*\"base\" + 0.014*\"everi\" + 0.013*\"sign\" + 0.010*\"year\" + 0.010*\"seafood\" + 0.010*\"speci\" + 0.009*\"clean\"\n",
      "INFO:gensim.models.ldamodel:topic diff=0.230083, rho=0.500000\n",
      "INFO:gensim.models.ldamodel:topic #0 (0.010): 0.043*\"cleanmeat\" + 0.040*\"steak\" + 0.021*\"foodtech\" + 0.018*\"cellag\" + 0.017*\"futureoffood\" + 0.017*\"cultivatedmeat\" + 0.017*\"world\" + 0.016*\"culturedmeat\" + 0.016*\"first\" + 0.015*\"farm\" + 0.014*\"cellbasedmeat\" + 0.013*\"cm\" + 0.013*\"biotech\" + 0.012*\"food\" + 0.012*\"via\" + 0.012*\"meat\" + 0.011*\"cellularagricultur\" + 0.011*\"make\" + 0.011*\"cell\" + 0.011*\"grown\"\n",
      "INFO:gensim.models.ldamodel:topic #1 (0.010): 0.052*\"goodfoodconfer\" + 0.033*\"meat\" + 0.025*\"food\" + 0.023*\"plantbas\" + 0.021*\"billion\" + 0.014*\"get\" + 0.012*\"burger\" + 0.011*\"new\" + 0.011*\"sustain\" + 0.010*\"protein\" + 0.010*\"industri\" + 0.010*\"sept\" + 0.010*\"talk\" + 0.009*\"great\" + 0.009*\"impact\" + 0.008*\"anim\" + 0.008*\"see\" + 0.008*\"acceler\" + 0.008*\"futur\" + 0.008*\"action\"\n",
      "INFO:gensim.models.ldamodel:topic #2 (0.010): 0.037*\"meat\" + 0.024*\"product\" + 0.020*\"sale\" + 0.018*\"lab\" + 0.015*\"grown\" + 0.013*\"like\" + 0.013*\"launch\" + 0.012*\"interview\" + 0.012*\"wrap\" + 0.012*\"cell\" + 0.011*\"space\" + 0.011*\"plant\" + 0.010*\"replac\" + 0.010*\"star\" + 0.010*\"cleanmeat\" + 0.009*\"cultiv\" + 0.009*\"protein\" + 0.009*\"base\" + 0.009*\"learn\" + 0.009*\"super\"\n",
      "INFO:gensim.models.ldamodel:topic #3 (0.010): 0.063*\"meat\" + 0.026*\"food\" + 0.019*\"invest\" + 0.017*\"base\" + 0.016*\"new\" + 0.016*\"startup\" + 0.014*\"global\" + 0.014*\"product\" + 0.013*\"cell\" + 0.013*\"plant\" + 0.013*\"isra\" + 0.012*\"compani\" + 0.012*\"via\" + 0.012*\"rais\" + 0.012*\"clean\" + 0.012*\"fund\" + 0.011*\"sustain\" + 0.011*\"protein\" + 0.011*\"million\" + 0.011*\"world\"\n",
      "INFO:gensim.models.ldamodel:topic #4 (0.010): 0.042*\"food\" + 0.031*\"meat\" + 0.016*\"futur\" + 0.015*\"base\" + 0.014*\"industri\" + 0.011*\"technolog\" + 0.011*\"scienc\" + 0.011*\"excit\" + 0.010*\"look\" + 0.010*\"biolog\" + 0.009*\"investor\" + 0.009*\"plant\" + 0.009*\"innov\" + 0.009*\"cleanmeat\" + 0.009*\"tech\" + 0.009*\"clean\" + 0.009*\"program\" + 0.008*\"cultur\" + 0.008*\"seafood\" + 0.008*\"foodtech\"\n",
      "INFO:gensim.models.ldamodel:topic #5 (0.010): 0.032*\"meat\" + 0.031*\"aleph\" + 0.023*\"food\" + 0.019*\"year\" + 0.016*\"age\" + 0.015*\"new\" + 0.015*\"farm\" + 0.013*\"job\" + 0.013*\"anim\" + 0.012*\"set\" + 0.012*\"use\" + 0.011*\"happi\" + 0.010*\"autom\" + 0.010*\"per\" + 0.009*\"impact\" + 0.008*\"approach\" + 0.008*\"product\" + 0.008*\"take\" + 0.008*\"like\" + 0.008*\"global\"\n",
      "INFO:gensim.models.ldamodel:topic #6 (0.010): 0.027*\"sustain\" + 0.023*\"mission\" + 0.020*\"team\" + 0.020*\"excit\" + 0.018*\"via\" + 0.018*\"meat\" + 0.017*\"world\" + 0.017*\"say\" + 0.016*\"achiev\" + 0.016*\"wild\" + 0.016*\"synthet\" + 0.015*\"industri\" + 0.014*\"challeng\" + 0.013*\"scale\" + 0.011*\"manufactur\" + 0.011*\"differ\" + 0.011*\"parti\" + 0.010*\"consum\" + 0.010*\"vast\" + 0.010*\"caus\"\n"
     ]
    },
    {
     "name": "stderr",
     "output_type": "stream",
     "text": [
      "INFO:gensim.models.ldamodel:topic #7 (0.010): 0.034*\"meat\" + 0.023*\"cleanmeat\" + 0.023*\"futurefood\" + 0.018*\"anim\" + 0.018*\"use\" + 0.016*\"cultivatedmeat\" + 0.016*\"food\" + 0.015*\"less\" + 0.014*\"plantbas\" + 0.013*\"cell\" + 0.012*\"protein\" + 0.012*\"muscl\" + 0.011*\"product\" + 0.011*\"grow\" + 0.011*\"opportun\" + 0.011*\"free\" + 0.010*\"public\" + 0.010*\"berkeley\" + 0.009*\"alt\" + 0.009*\"talk\"\n",
      "INFO:gensim.models.ldamodel:topic #8 (0.010): 0.025*\"thank\" + 0.019*\"congratul\" + 0.017*\"scienc\" + 0.016*\"award\" + 0.016*\"meat\" + 0.014*\"agtech\" + 0.014*\"focu\" + 0.013*\"standard\" + 0.010*\"includ\" + 0.010*\"come\" + 0.010*\"gfi\" + 0.009*\"open\" + 0.009*\"end\" + 0.009*\"million\" + 0.009*\"coronaviru\" + 0.009*\"professor\" + 0.009*\"industri\" + 0.009*\"univers\" + 0.008*\"progress\" + 0.008*\"fight\"\n",
      "INFO:gensim.models.ldamodel:topic #9 (0.010): 0.044*\"meat\" + 0.033*\"food\" + 0.018*\"futur\" + 0.017*\"cell\" + 0.015*\"protein\" + 0.014*\"join\" + 0.014*\"new\" + 0.014*\"base\" + 0.014*\"anim\" + 0.013*\"cultur\" + 0.011*\"dairi\" + 0.010*\"ceo\" + 0.010*\"industri\" + 0.010*\"cleanmeat\" + 0.009*\"farm\" + 0.009*\"sustain\" + 0.009*\"shrimp\" + 0.009*\"week\" + 0.009*\"milk\" + 0.008*\"plant\"\n",
      "INFO:gensim.models.ldamodel:topic #10 (0.010): 0.050*\"meat\" + 0.019*\"chicken\" + 0.017*\"cell\" + 0.017*\"base\" + 0.015*\"cultur\" + 0.014*\"year\" + 0.014*\"egg\" + 0.012*\"new\" + 0.012*\"market\" + 0.009*\"cleanmeat\" + 0.009*\"food\" + 0.009*\"produc\" + 0.009*\"consum\" + 0.009*\"engin\" + 0.009*\"demand\" + 0.008*\"world\" + 0.008*\"predict\" + 0.008*\"move\" + 0.008*\"restaur\" + 0.008*\"term\"\n",
      "INFO:gensim.models.ldamodel:topic #11 (0.010): 0.051*\"meat\" + 0.031*\"anim\" + 0.022*\"eat\" + 0.021*\"fish\" + 0.018*\"beef\" + 0.018*\"climat\" + 0.017*\"livestock\" + 0.016*\"cow\" + 0.015*\"goodfood\" + 0.015*\"chang\" + 0.015*\"tast\" + 0.013*\"percent\" + 0.013*\"antibiot\" + 0.013*\"environment\" + 0.012*\"world\" + 0.011*\"cleanmeat\" + 0.011*\"would\" + 0.011*\"human\" + 0.010*\"water\" + 0.010*\"tackl\"\n",
      "INFO:gensim.models.ldamodel:topic #12 (0.010): 0.029*\"meat\" + 0.022*\"cell\" + 0.016*\"anim\" + 0.016*\"base\" + 0.014*\"everi\" + 0.013*\"sign\" + 0.010*\"year\" + 0.010*\"seafood\" + 0.010*\"speci\" + 0.009*\"clean\" + 0.009*\"engin\" + 0.008*\"today\" + 0.008*\"earth\" + 0.008*\"effort\" + 0.008*\"huge\" + 0.008*\"grate\" + 0.008*\"cleanmeat\" + 0.007*\"agricultur\" + 0.007*\"product\" + 0.007*\"world\"\n",
      "INFO:gensim.models.ldamodel:topic #13 (0.010): 0.030*\"meat\" + 0.030*\"futureoffood\" + 0.026*\"year\" + 0.022*\"cellag\" + 0.022*\"cleanmeat\" + 0.021*\"plant\" + 0.017*\"base\" + 0.016*\"cultur\" + 0.015*\"culturedmeat\" + 0.013*\"ago\" + 0.013*\"compani\" + 0.011*\"beyond\" + 0.011*\"march\" + 0.011*\"seed\" + 0.010*\"talk\" + 0.010*\"think\" + 0.010*\"cell\" + 0.009*\"first\" + 0.009*\"soon\" + 0.009*\"agricultur\"\n"
     ]
    },
    {
     "data": {
      "text/plain": [
       "[(0,\n",
       "  '0.043*\"cleanmeat\" + 0.040*\"steak\" + 0.021*\"foodtech\" + 0.018*\"cellag\" + 0.017*\"futureoffood\" + 0.017*\"cultivatedmeat\" + 0.017*\"world\" + 0.016*\"culturedmeat\" + 0.016*\"first\" + 0.015*\"farm\" + 0.014*\"cellbasedmeat\" + 0.013*\"cm\" + 0.013*\"biotech\" + 0.012*\"food\" + 0.012*\"via\" + 0.012*\"meat\" + 0.011*\"cellularagricultur\" + 0.011*\"make\" + 0.011*\"cell\" + 0.011*\"grown\"'),\n",
       " (1,\n",
       "  '0.052*\"goodfoodconfer\" + 0.033*\"meat\" + 0.025*\"food\" + 0.023*\"plantbas\" + 0.021*\"billion\" + 0.014*\"get\" + 0.012*\"burger\" + 0.011*\"new\" + 0.011*\"sustain\" + 0.010*\"protein\" + 0.010*\"industri\" + 0.010*\"sept\" + 0.010*\"talk\" + 0.009*\"great\" + 0.009*\"impact\" + 0.008*\"anim\" + 0.008*\"see\" + 0.008*\"acceler\" + 0.008*\"futur\" + 0.008*\"action\"'),\n",
       " (2,\n",
       "  '0.037*\"meat\" + 0.024*\"product\" + 0.020*\"sale\" + 0.018*\"lab\" + 0.015*\"grown\" + 0.013*\"like\" + 0.013*\"launch\" + 0.012*\"interview\" + 0.012*\"wrap\" + 0.012*\"cell\" + 0.011*\"space\" + 0.011*\"plant\" + 0.010*\"replac\" + 0.010*\"star\" + 0.010*\"cleanmeat\" + 0.009*\"cultiv\" + 0.009*\"protein\" + 0.009*\"base\" + 0.009*\"learn\" + 0.009*\"super\"'),\n",
       " (3,\n",
       "  '0.063*\"meat\" + 0.026*\"food\" + 0.019*\"invest\" + 0.017*\"base\" + 0.016*\"new\" + 0.016*\"startup\" + 0.014*\"global\" + 0.014*\"product\" + 0.013*\"cell\" + 0.013*\"plant\" + 0.013*\"isra\" + 0.012*\"compani\" + 0.012*\"via\" + 0.012*\"rais\" + 0.012*\"clean\" + 0.012*\"fund\" + 0.011*\"sustain\" + 0.011*\"protein\" + 0.011*\"million\" + 0.011*\"world\"'),\n",
       " (4,\n",
       "  '0.042*\"food\" + 0.031*\"meat\" + 0.016*\"futur\" + 0.015*\"base\" + 0.014*\"industri\" + 0.011*\"technolog\" + 0.011*\"scienc\" + 0.011*\"excit\" + 0.010*\"look\" + 0.010*\"biolog\" + 0.009*\"investor\" + 0.009*\"plant\" + 0.009*\"innov\" + 0.009*\"cleanmeat\" + 0.009*\"tech\" + 0.009*\"clean\" + 0.009*\"program\" + 0.008*\"cultur\" + 0.008*\"seafood\" + 0.008*\"foodtech\"'),\n",
       " (5,\n",
       "  '0.032*\"meat\" + 0.031*\"aleph\" + 0.023*\"food\" + 0.019*\"year\" + 0.016*\"age\" + 0.015*\"new\" + 0.015*\"farm\" + 0.013*\"job\" + 0.013*\"anim\" + 0.012*\"set\" + 0.012*\"use\" + 0.011*\"happi\" + 0.010*\"autom\" + 0.010*\"per\" + 0.009*\"impact\" + 0.008*\"approach\" + 0.008*\"product\" + 0.008*\"take\" + 0.008*\"like\" + 0.008*\"global\"'),\n",
       " (6,\n",
       "  '0.027*\"sustain\" + 0.023*\"mission\" + 0.020*\"team\" + 0.020*\"excit\" + 0.018*\"via\" + 0.018*\"meat\" + 0.017*\"world\" + 0.017*\"say\" + 0.016*\"achiev\" + 0.016*\"wild\" + 0.016*\"synthet\" + 0.015*\"industri\" + 0.014*\"challeng\" + 0.013*\"scale\" + 0.011*\"manufactur\" + 0.011*\"differ\" + 0.011*\"parti\" + 0.010*\"consum\" + 0.010*\"vast\" + 0.010*\"caus\"'),\n",
       " (7,\n",
       "  '0.034*\"meat\" + 0.023*\"cleanmeat\" + 0.023*\"futurefood\" + 0.018*\"anim\" + 0.018*\"use\" + 0.016*\"cultivatedmeat\" + 0.016*\"food\" + 0.015*\"less\" + 0.014*\"plantbas\" + 0.013*\"cell\" + 0.012*\"protein\" + 0.012*\"muscl\" + 0.011*\"product\" + 0.011*\"grow\" + 0.011*\"opportun\" + 0.011*\"free\" + 0.010*\"public\" + 0.010*\"berkeley\" + 0.009*\"alt\" + 0.009*\"talk\"'),\n",
       " (8,\n",
       "  '0.025*\"thank\" + 0.019*\"congratul\" + 0.017*\"scienc\" + 0.016*\"award\" + 0.016*\"meat\" + 0.014*\"agtech\" + 0.014*\"focu\" + 0.013*\"standard\" + 0.010*\"includ\" + 0.010*\"come\" + 0.010*\"gfi\" + 0.009*\"open\" + 0.009*\"end\" + 0.009*\"million\" + 0.009*\"coronaviru\" + 0.009*\"professor\" + 0.009*\"industri\" + 0.009*\"univers\" + 0.008*\"progress\" + 0.008*\"fight\"'),\n",
       " (9,\n",
       "  '0.044*\"meat\" + 0.033*\"food\" + 0.018*\"futur\" + 0.017*\"cell\" + 0.015*\"protein\" + 0.014*\"join\" + 0.014*\"new\" + 0.014*\"base\" + 0.014*\"anim\" + 0.013*\"cultur\" + 0.011*\"dairi\" + 0.010*\"ceo\" + 0.010*\"industri\" + 0.010*\"cleanmeat\" + 0.009*\"farm\" + 0.009*\"sustain\" + 0.009*\"shrimp\" + 0.009*\"week\" + 0.009*\"milk\" + 0.008*\"plant\"'),\n",
       " (10,\n",
       "  '0.050*\"meat\" + 0.019*\"chicken\" + 0.017*\"cell\" + 0.017*\"base\" + 0.015*\"cultur\" + 0.014*\"year\" + 0.014*\"egg\" + 0.012*\"new\" + 0.012*\"market\" + 0.009*\"cleanmeat\" + 0.009*\"food\" + 0.009*\"produc\" + 0.009*\"consum\" + 0.009*\"engin\" + 0.009*\"demand\" + 0.008*\"world\" + 0.008*\"predict\" + 0.008*\"move\" + 0.008*\"restaur\" + 0.008*\"term\"'),\n",
       " (11,\n",
       "  '0.051*\"meat\" + 0.031*\"anim\" + 0.022*\"eat\" + 0.021*\"fish\" + 0.018*\"beef\" + 0.018*\"climat\" + 0.017*\"livestock\" + 0.016*\"cow\" + 0.015*\"goodfood\" + 0.015*\"chang\" + 0.015*\"tast\" + 0.013*\"percent\" + 0.013*\"antibiot\" + 0.013*\"environment\" + 0.012*\"world\" + 0.011*\"cleanmeat\" + 0.011*\"would\" + 0.011*\"human\" + 0.010*\"water\" + 0.010*\"tackl\"'),\n",
       " (12,\n",
       "  '0.029*\"meat\" + 0.022*\"cell\" + 0.016*\"anim\" + 0.016*\"base\" + 0.014*\"everi\" + 0.013*\"sign\" + 0.010*\"year\" + 0.010*\"seafood\" + 0.010*\"speci\" + 0.009*\"clean\" + 0.009*\"engin\" + 0.008*\"today\" + 0.008*\"earth\" + 0.008*\"effort\" + 0.008*\"huge\" + 0.008*\"grate\" + 0.008*\"cleanmeat\" + 0.007*\"agricultur\" + 0.007*\"product\" + 0.007*\"world\"'),\n",
       " (13,\n",
       "  '0.030*\"meat\" + 0.030*\"futureoffood\" + 0.026*\"year\" + 0.022*\"cellag\" + 0.022*\"cleanmeat\" + 0.021*\"plant\" + 0.017*\"base\" + 0.016*\"cultur\" + 0.015*\"culturedmeat\" + 0.013*\"ago\" + 0.013*\"compani\" + 0.011*\"beyond\" + 0.011*\"march\" + 0.011*\"seed\" + 0.010*\"talk\" + 0.010*\"think\" + 0.010*\"cell\" + 0.009*\"first\" + 0.009*\"soon\" + 0.009*\"agricultur\"')]"
      ]
     },
     "execution_count": 15,
     "metadata": {},
     "output_type": "execute_result"
    }
   ],
   "source": [
    "unigram = []\n",
    "unigram_list = []\n",
    "for index, i in text.iterrows():\n",
    "    unigram=[]\n",
    "    for word in i['processed'].split():\n",
    "        unigram.append(word)\n",
    "    unigram_list.append(unigram)\n",
    "data_words = [i for i in unigram_list]\n",
    "id2word = corpora.Dictionary(data_words)\n",
    "texts = data_words\n",
    "corpus = [id2word.doc2bow(text) for text in texts]\n",
    "lda_model = gensim.models.ldamodel.LdaModel(corpus=corpus,id2word=id2word,num_topics=14,random_state=2022,alpha=0.01,eta=0.01,per_word_topics=True)\n",
    "lda_model.print_topics(num_words=20)"
   ]
  },
  {
   "cell_type": "code",
   "execution_count": 16,
   "metadata": {},
   "outputs": [
    {
     "name": "stderr",
     "output_type": "stream",
     "text": [
      "INFO:gensim.topic_coherence.text_analysis:CorpusAccumulator accumulated stats from 1000 documents\n",
      "INFO:gensim.topic_coherence.text_analysis:CorpusAccumulator accumulated stats from 2000 documents\n",
      "INFO:gensim.topic_coherence.text_analysis:CorpusAccumulator accumulated stats from 3000 documents\n",
      "INFO:gensim.topic_coherence.text_analysis:CorpusAccumulator accumulated stats from 4000 documents\n",
      "INFO:gensim.topic_coherence.text_analysis:CorpusAccumulator accumulated stats from 5000 documents\n",
      "INFO:gensim.topic_coherence.text_analysis:CorpusAccumulator accumulated stats from 6000 documents\n"
     ]
    },
    {
     "data": {
      "text/plain": [
       "-6.73612562449334"
      ]
     },
     "execution_count": 16,
     "metadata": {},
     "output_type": "execute_result"
    }
   ],
   "source": [
    "coherencemodel = CoherenceModel(model=lda_model, texts=unigram_list, dictionary=id2word, coherence='u_mass')\n",
    "coherencemodel.get_coherence()"
   ]
  },
  {
   "cell_type": "markdown",
   "metadata": {},
   "source": [
    "# Hellinger Distance:\n",
    "![HD.png](HD.png)\n",
    "# Entropy:\n",
    "![Entropy.png](Entropy.png)"
   ]
  },
  {
   "cell_type": "code",
   "execution_count": 17,
   "metadata": {},
   "outputs": [],
   "source": [
    "import math\n",
    "def calculate_entropy(topic_word_distribution,num_of_topics):\n",
    "    entropy = 0\n",
    "    for topic in topic_word_distribution:\n",
    "        for probability in topic:\n",
    "            entropy -= probability*math.log(probability)\n",
    "    return entropy/num_of_topics  \n",
    "from gensim.matutils import hellinger\n",
    "def calculate_hellinger_distance(topic_word,number_of_topics):\n",
    "    distance = 0\n",
    "    for i in range(0,number_of_topics-1):\n",
    "        for j in range(i+1,number_of_topics):\n",
    "            distance += hellinger(topic_word[i],topic_word[j])\n",
    "    return distance*2/(number_of_topics*(number_of_topics-1))\n",
    "def Evaluate(seedtopic,number_of_unseededtopic):\n",
    "    number_of_topic = len(seedtopic)+number_of_unseededtopic #seeded topics + 2 unseeded topics\n",
    "    model = guidedlda.GuidedLDA(n_topics=number_of_topic,n_iter=1000,random_state=2022,refresh=10,alpha=0.01,eta=0.01)#9 ok\n",
    "    seed_topics = {}\n",
    "    for t_id, st in enumerate(seedtopic):\n",
    "        for word in st:\n",
    "            seed_topics[word2id[word]] = t_id\n",
    "\n",
    "    data_words = [i for i in all_tweets]\n",
    "    id2word = corpora.Dictionary(data_words)\n",
    "    from gensim.models import CoherenceModel\n",
    "    model = model.fit(X.toarray(),seed_topics=seed_topics,seed_confidence=0.7)\n",
    "    topic_word = model.topic_word_\n",
    "    coherencemodel_guided_cv_seed4 = CoherenceModel(model=model, texts=all_tweets, dictionary=id2word, coherence='c_v')\n",
    "    entropy_score = calculate_entropy(topic_word,number_of_topic)\n",
    "    hellinger_distance = calculate_hellinger_distance(topic_word,number_of_topic)\n",
    "    return coherencemodel_guided_cv_seed4.get_coherence() , entropy_score, hellinger_distance"
   ]
  },
  {
   "cell_type": "code",
   "execution_count": 18,
   "metadata": {
    "scrolled": false
   },
   "outputs": [
    {
     "name": "stderr",
     "output_type": "stream",
     "text": [
      "INFO:gensim.corpora.dictionary:adding document #0 to Dictionary(0 unique tokens: [])\n",
      "INFO:gensim.corpora.dictionary:built Dictionary(7520 unique tokens: ['base', 'becam', 'cell', 'cellag', 'cellbasedmeat']...) from 6248 documents (total 74569 corpus positions)\n",
      "INFO:guidedlda:n_documents: 6248\n",
      "INFO:guidedlda:vocab_size: 7520\n",
      "INFO:guidedlda:n_words: 74569\n",
      "INFO:guidedlda:n_topics: 14\n",
      "INFO:guidedlda:n_iter: 1000\n",
      "INFO:guidedlda:<0> log likelihood: -978900\n",
      "INFO:guidedlda:<10> log likelihood: -624493\n",
      "INFO:guidedlda:<20> log likelihood: -610005\n",
      "INFO:guidedlda:<30> log likelihood: -602178\n",
      "INFO:guidedlda:<40> log likelihood: -598280\n",
      "INFO:guidedlda:<50> log likelihood: -594905\n",
      "INFO:guidedlda:<60> log likelihood: -592685\n",
      "INFO:guidedlda:<70> log likelihood: -591103\n",
      "INFO:guidedlda:<80> log likelihood: -589407\n",
      "INFO:guidedlda:<90> log likelihood: -588374\n",
      "INFO:guidedlda:<100> log likelihood: -587394\n",
      "INFO:guidedlda:<110> log likelihood: -586658\n",
      "INFO:guidedlda:<120> log likelihood: -586134\n",
      "INFO:guidedlda:<130> log likelihood: -585331\n",
      "INFO:guidedlda:<140> log likelihood: -584887\n",
      "INFO:guidedlda:<150> log likelihood: -583957\n",
      "INFO:guidedlda:<160> log likelihood: -583905\n",
      "INFO:guidedlda:<170> log likelihood: -583959\n",
      "INFO:guidedlda:<180> log likelihood: -583448\n",
      "INFO:guidedlda:<190> log likelihood: -582732\n",
      "INFO:guidedlda:<200> log likelihood: -582772\n",
      "INFO:guidedlda:<210> log likelihood: -582866\n",
      "INFO:guidedlda:<220> log likelihood: -582306\n",
      "INFO:guidedlda:<230> log likelihood: -581861\n",
      "INFO:guidedlda:<240> log likelihood: -582152\n",
      "INFO:guidedlda:<250> log likelihood: -581384\n",
      "INFO:guidedlda:<260> log likelihood: -581281\n",
      "INFO:guidedlda:<270> log likelihood: -581545\n",
      "INFO:guidedlda:<280> log likelihood: -581178\n",
      "INFO:guidedlda:<290> log likelihood: -581182\n",
      "INFO:guidedlda:<300> log likelihood: -580344\n",
      "INFO:guidedlda:<310> log likelihood: -580531\n",
      "INFO:guidedlda:<320> log likelihood: -580248\n",
      "INFO:guidedlda:<330> log likelihood: -580262\n",
      "INFO:guidedlda:<340> log likelihood: -580152\n",
      "INFO:guidedlda:<350> log likelihood: -580038\n",
      "INFO:guidedlda:<360> log likelihood: -580054\n",
      "INFO:guidedlda:<370> log likelihood: -579703\n",
      "INFO:guidedlda:<380> log likelihood: -579626\n",
      "INFO:guidedlda:<390> log likelihood: -579829\n",
      "INFO:guidedlda:<400> log likelihood: -579267\n",
      "INFO:guidedlda:<410> log likelihood: -579421\n",
      "INFO:guidedlda:<420> log likelihood: -579592\n",
      "INFO:guidedlda:<430> log likelihood: -579405\n",
      "INFO:guidedlda:<440> log likelihood: -579929\n",
      "INFO:guidedlda:<450> log likelihood: -579438\n",
      "INFO:guidedlda:<460> log likelihood: -579081\n",
      "INFO:guidedlda:<470> log likelihood: -579332\n",
      "INFO:guidedlda:<480> log likelihood: -579168\n",
      "INFO:guidedlda:<490> log likelihood: -579181\n",
      "INFO:guidedlda:<500> log likelihood: -579398\n",
      "INFO:guidedlda:<510> log likelihood: -579310\n",
      "INFO:guidedlda:<520> log likelihood: -579122\n",
      "INFO:guidedlda:<530> log likelihood: -579173\n",
      "INFO:guidedlda:<540> log likelihood: -579279\n",
      "INFO:guidedlda:<550> log likelihood: -579127\n",
      "INFO:guidedlda:<560> log likelihood: -579411\n",
      "INFO:guidedlda:<570> log likelihood: -578957\n",
      "INFO:guidedlda:<580> log likelihood: -578758\n",
      "INFO:guidedlda:<590> log likelihood: -578822\n",
      "INFO:guidedlda:<600> log likelihood: -579205\n",
      "INFO:guidedlda:<610> log likelihood: -578270\n",
      "INFO:guidedlda:<620> log likelihood: -578556\n",
      "INFO:guidedlda:<630> log likelihood: -578266\n",
      "INFO:guidedlda:<640> log likelihood: -578478\n",
      "INFO:guidedlda:<650> log likelihood: -578571\n",
      "INFO:guidedlda:<660> log likelihood: -578318\n",
      "INFO:guidedlda:<670> log likelihood: -578337\n",
      "INFO:guidedlda:<680> log likelihood: -578395\n",
      "INFO:guidedlda:<690> log likelihood: -578306\n",
      "INFO:guidedlda:<700> log likelihood: -578306\n",
      "INFO:guidedlda:<710> log likelihood: -578469\n",
      "INFO:guidedlda:<720> log likelihood: -578630\n",
      "INFO:guidedlda:<730> log likelihood: -578364\n",
      "INFO:guidedlda:<740> log likelihood: -578323\n",
      "INFO:guidedlda:<750> log likelihood: -578373\n",
      "INFO:guidedlda:<760> log likelihood: -578039\n",
      "INFO:guidedlda:<770> log likelihood: -577938\n",
      "INFO:guidedlda:<780> log likelihood: -578049\n",
      "INFO:guidedlda:<790> log likelihood: -578555\n",
      "INFO:guidedlda:<800> log likelihood: -578525\n",
      "INFO:guidedlda:<810> log likelihood: -578390\n",
      "INFO:guidedlda:<820> log likelihood: -578376\n",
      "INFO:guidedlda:<830> log likelihood: -578214\n",
      "INFO:guidedlda:<840> log likelihood: -578549\n",
      "INFO:guidedlda:<850> log likelihood: -578131\n",
      "INFO:guidedlda:<860> log likelihood: -578151\n",
      "INFO:guidedlda:<870> log likelihood: -577951\n",
      "INFO:guidedlda:<880> log likelihood: -578166\n",
      "INFO:guidedlda:<890> log likelihood: -577957\n",
      "INFO:guidedlda:<900> log likelihood: -578107\n",
      "INFO:guidedlda:<910> log likelihood: -577805\n",
      "INFO:guidedlda:<920> log likelihood: -577982\n",
      "INFO:guidedlda:<930> log likelihood: -578176\n",
      "INFO:guidedlda:<940> log likelihood: -577830\n",
      "INFO:guidedlda:<950> log likelihood: -578002\n",
      "INFO:guidedlda:<960> log likelihood: -577709\n",
      "INFO:guidedlda:<970> log likelihood: -577843\n",
      "INFO:guidedlda:<980> log likelihood: -577914\n",
      "INFO:guidedlda:<990> log likelihood: -577740\n",
      "INFO:guidedlda:<999> log likelihood: -577826\n",
      "INFO:gensim.topic_coherence.probability_estimation:using ParallelWordOccurrenceAccumulator(processes=7, batch_size=64) to estimate probabilities from sliding windows\n",
      "INFO:gensim.topic_coherence.text_analysis:serializing accumulator to return to master...\n",
      "INFO:gensim.topic_coherence.text_analysis:serializing accumulator to return to master...\n",
      "INFO:gensim.topic_coherence.text_analysis:serializing accumulator to return to master...\n",
      "INFO:gensim.topic_coherence.text_analysis:serializing accumulator to return to master...\n",
      "INFO:gensim.topic_coherence.text_analysis:serializing accumulator to return to master...\n",
      "INFO:gensim.topic_coherence.text_analysis:serializing accumulator to return to master...\n",
      "INFO:gensim.topic_coherence.text_analysis:serializing accumulator to return to master...\n",
      "INFO:gensim.topic_coherence.text_analysis:accumulator serialized\n",
      "INFO:gensim.topic_coherence.text_analysis:accumulator serialized\n",
      "INFO:gensim.topic_coherence.text_analysis:accumulator serialized\n",
      "INFO:gensim.topic_coherence.text_analysis:accumulator serialized\n",
      "INFO:gensim.topic_coherence.text_analysis:accumulator serialized\n",
      "INFO:gensim.topic_coherence.text_analysis:accumulator serialized\n",
      "INFO:gensim.topic_coherence.text_analysis:7 accumulators retrieved from output queue\n",
      "INFO:gensim.topic_coherence.text_analysis:accumulator serialized\n",
      "INFO:gensim.topic_coherence.text_analysis:accumulated word occurrence stats for 1774 virtual documents\n"
     ]
    },
    {
     "data": {
      "text/plain": [
       "(0.7881332790526823, 6.012459103383283, 0.8141072818656245)"
      ]
     },
     "execution_count": 18,
     "metadata": {},
     "output_type": "execute_result"
    }
   ],
   "source": [
    "Evaluate(bigramseed,2)"
   ]
  },
  {
   "cell_type": "code",
   "execution_count": 19,
   "metadata": {},
   "outputs": [],
   "source": [
    "lda_topics = lda_model.get_topics() #The topic-word distribution return by traditional LDA"
   ]
  },
  {
   "cell_type": "code",
   "execution_count": 20,
   "metadata": {},
   "outputs": [
    {
     "data": {
      "text/plain": [
       "5.569550429546264"
      ]
     },
     "execution_count": 20,
     "metadata": {},
     "output_type": "execute_result"
    }
   ],
   "source": [
    "calculate_entropy(lda_topics,14) #Calculate the entropy of the results of traditional LDA model"
   ]
  },
  {
   "cell_type": "code",
   "execution_count": 21,
   "metadata": {},
   "outputs": [
    {
     "data": {
      "text/plain": [
       "0.7084897920519022"
      ]
     },
     "execution_count": 21,
     "metadata": {},
     "output_type": "execute_result"
    }
   ],
   "source": [
    "calculate_hellinger_distance(lda_topics,14) #Calculate the hellinger distance of the results of traditional LDA model"
   ]
  },
  {
   "cell_type": "code",
   "execution_count": 22,
   "metadata": {},
   "outputs": [
    {
     "name": "stderr",
     "output_type": "stream",
     "text": [
      "INFO:gensim.corpora.dictionary:adding document #0 to Dictionary(0 unique tokens: [])\n",
      "INFO:gensim.corpora.dictionary:built Dictionary(7520 unique tokens: ['base', 'becam', 'cell', 'cellag', 'cellbasedmeat']...) from 6248 documents (total 74569 corpus positions)\n"
     ]
    },
    {
     "data": {
      "text/plain": [
       "'def compute_coherence_values(dictionary, corpus, texts, limit, start, step):\\n    coherence_values = []\\n    model_list = []\\n    for num_topics in range(start,limit,step):\\n        model=gensim.models.ldamodel.LdaModel(corpus=corpus, id2word=id2word, num_topics=num_topics,random_state=2022)\\n        model_list.append(model)\\n        coherencemodel = CoherenceModel(model=model, texts=texts, dictionary=dictionary, coherence=\\'c_v\\')\\n        coherence_values.append(coherencemodel.get_coherence())\\n    return model_list, coherence_values\\n#coherence score\\nlimit=21; start=10; step=1\\nmodel_list, coherence_values = compute_coherence_values(dictionary=id2word, corpus=corpus, texts=texts, start=start, limit=limit, step=step)\\n# Show graph\\nimport matplotlib.pyplot as plt\\nx = range(start, limit, step)\\nplt.plot(x, coherence_values,label=\\'All tweets\\')\\nplt.xlabel(\"Num Topics\")\\nplt.ylabel(\"Coherence score\")\\nplt.legend(loc=\\'best\\')\\nplt.show()'"
      ]
     },
     "execution_count": 22,
     "metadata": {},
     "output_type": "execute_result"
    }
   ],
   "source": [
    "#unigram\n",
    "from gensim.models import CoherenceModel\n",
    "unigram = []\n",
    "unigram_list = []\n",
    "for index, i in text.iterrows():\n",
    "    unigram=[]\n",
    "    for word in i['processed'].split():\n",
    "        unigram.append(word)\n",
    "    unigram_list.append(unigram)\n",
    "data_words = [i for i in unigram_list]\n",
    "id2word = corpora.Dictionary(data_words)\n",
    "texts = data_words\n",
    "corpus = [id2word.doc2bow(text) for text in texts]\n",
    "'''def compute_coherence_values(dictionary, corpus, texts, limit, start, step):\n",
    "    coherence_values = []\n",
    "    model_list = []\n",
    "    for num_topics in range(start,limit,step):\n",
    "        model=gensim.models.ldamodel.LdaModel(corpus=corpus, id2word=id2word, num_topics=num_topics,random_state=2022)\n",
    "        model_list.append(model)\n",
    "        coherencemodel = CoherenceModel(model=model, texts=texts, dictionary=dictionary, coherence='c_v')\n",
    "        coherence_values.append(coherencemodel.get_coherence())\n",
    "    return model_list, coherence_values\n",
    "#coherence score\n",
    "limit=21; start=10; step=1\n",
    "model_list, coherence_values = compute_coherence_values(dictionary=id2word, corpus=corpus, texts=texts, start=start, limit=limit, step=step)\n",
    "# Show graph\n",
    "import matplotlib.pyplot as plt\n",
    "x = range(start, limit, step)\n",
    "plt.plot(x, coherence_values,label='All tweets')\n",
    "plt.xlabel(\"Num Topics\")\n",
    "plt.ylabel(\"Coherence score\")\n",
    "plt.legend(loc='best')\n",
    "plt.show()'''"
   ]
  },
  {
   "cell_type": "code",
   "execution_count": 23,
   "metadata": {},
   "outputs": [
    {
     "name": "stderr",
     "output_type": "stream",
     "text": [
      "INFO:gensim.topic_coherence.probability_estimation:using ParallelWordOccurrenceAccumulator(processes=7, batch_size=64) to estimate probabilities from sliding windows\n",
      "INFO:gensim.topic_coherence.text_analysis:serializing accumulator to return to master...\n",
      "INFO:gensim.topic_coherence.text_analysis:serializing accumulator to return to master...\n",
      "INFO:gensim.topic_coherence.text_analysis:serializing accumulator to return to master...\n",
      "INFO:gensim.topic_coherence.text_analysis:serializing accumulator to return to master...\n",
      "INFO:gensim.topic_coherence.text_analysis:serializing accumulator to return to master...\n",
      "INFO:gensim.topic_coherence.text_analysis:accumulator serialized\n",
      "INFO:gensim.topic_coherence.text_analysis:serializing accumulator to return to master...\n",
      "INFO:gensim.topic_coherence.text_analysis:accumulator serialized\n",
      "INFO:gensim.topic_coherence.text_analysis:serializing accumulator to return to master...\n",
      "INFO:gensim.topic_coherence.text_analysis:accumulator serialized\n",
      "INFO:gensim.topic_coherence.text_analysis:accumulator serialized\n",
      "INFO:gensim.topic_coherence.text_analysis:accumulator serialized\n",
      "INFO:gensim.topic_coherence.text_analysis:accumulator serialized\n",
      "INFO:gensim.topic_coherence.text_analysis:accumulator serialized\n",
      "INFO:gensim.topic_coherence.text_analysis:7 accumulators retrieved from output queue\n",
      "INFO:gensim.topic_coherence.text_analysis:accumulated word occurrence stats for 5740 virtual documents\n"
     ]
    },
    {
     "data": {
      "text/plain": [
       "0.3497456953504089"
      ]
     },
     "execution_count": 23,
     "metadata": {},
     "output_type": "execute_result"
    }
   ],
   "source": [
    "CoherenceModel(model=lda_model, texts=all_tweets, dictionary=id2word, coherence='c_v').get_coherence()"
   ]
  },
  {
   "cell_type": "markdown",
   "metadata": {},
   "source": [
    "## To export tweets within each topic:"
   ]
  },
  {
   "cell_type": "markdown",
   "metadata": {},
   "source": [
    "text_topic0 = text2.loc[text2['most_salient_topic']== 0].sort_values('probability',ascending=False)\n",
    "text_topic1 = text2.loc[text2['most_salient_topic']== 1].sort_values('probability',ascending=False)\n",
    "text_topic2 = text2.loc[text2['most_salient_topic']== 2].sort_values('probability',ascending=False)\n",
    "text_topic3 = text2.loc[text2['most_salient_topic']== 3].sort_values('probability',ascending=False)\n",
    "text_topic4 = text2.loc[text2['most_salient_topic']== 4].sort_values('probability',ascending=False)\n",
    "text_topic5 = text2.loc[text2['most_salient_topic']== 5].sort_values('probability',ascending=False)\n",
    "text_topic6 = text2.loc[text2['most_salient_topic']== 6].sort_values('probability',ascending=False)\n",
    "text_topic7 = text2.loc[text2['most_salient_topic']== 7].sort_values('probability',ascending=False)\n",
    "text_topic8 = text2.loc[text2['most_salient_topic']== 8].sort_values('probability',ascending=False)\n",
    "text_topic9 = text2.loc[text2['most_salient_topic']== 9].sort_values('probability',ascending=False)\n",
    "text_topic10 = text2.loc[text2['most_salient_topic']== 10].sort_values('probability',ascending=False)\n",
    "text_topic11 = text2.loc[text2['most_salient_topic']== 11].sort_values('probability',ascending=False)\n",
    "text_topic12 = text2.loc[text2['most_salient_topic']== 12].sort_values('probability',ascending=False)\n",
    "text_topic13 = text2.loc[text2['most_salient_topic']== 13].sort_values('probability',ascending=False)"
   ]
  }
 ],
 "metadata": {
  "kernelspec": {
   "display_name": "Python 3 (ipykernel)",
   "language": "python",
   "name": "python3"
  },
  "language_info": {
   "codemirror_mode": {
    "name": "ipython",
    "version": 3
   },
   "file_extension": ".py",
   "mimetype": "text/x-python",
   "name": "python",
   "nbconvert_exporter": "python",
   "pygments_lexer": "ipython3",
   "version": "3.7.4"
  }
 },
 "nbformat": 4,
 "nbformat_minor": 2
}
